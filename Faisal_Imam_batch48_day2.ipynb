{
 "cells": [
  {
   "cell_type": "code",
   "execution_count": 1,
   "id": "dd5abc89",
   "metadata": {},
   "outputs": [
    {
     "ename": "SyntaxError",
     "evalue": "invalid syntax (<ipython-input-1-d10924aaeae1>, line 1)",
     "output_type": "error",
     "traceback": [
      "\u001b[1;36m  File \u001b[1;32m\"<ipython-input-1-d10924aaeae1>\"\u001b[1;36m, line \u001b[1;32m1\u001b[0m\n\u001b[1;33m    first name=\"Faisal\"\u001b[0m\n\u001b[1;37m          ^\u001b[0m\n\u001b[1;31mSyntaxError\u001b[0m\u001b[1;31m:\u001b[0m invalid syntax\n"
     ]
    }
   ],
   "source": [
    "first name=\"Faisal\""
   ]
  },
  {
   "cell_type": "code",
   "execution_count": 3,
   "id": "96357dc6",
   "metadata": {},
   "outputs": [
    {
     "name": "stdout",
     "output_type": "stream",
     "text": [
      "Faisal\n"
     ]
    }
   ],
   "source": [
    "first_name=\"Faisal\"\n",
    "print(first_name)"
   ]
  },
  {
   "cell_type": "code",
   "execution_count": 4,
   "id": "1af8bfa6",
   "metadata": {},
   "outputs": [
    {
     "ename": "SyntaxError",
     "evalue": "invalid syntax (<ipython-input-4-d5d5312badbc>, line 1)",
     "output_type": "error",
     "traceback": [
      "\u001b[1;36m  File \u001b[1;32m\"<ipython-input-4-d5d5312badbc>\"\u001b[1;36m, line \u001b[1;32m1\u001b[0m\n\u001b[1;33m    2var_name=2\u001b[0m\n\u001b[1;37m     ^\u001b[0m\n\u001b[1;31mSyntaxError\u001b[0m\u001b[1;31m:\u001b[0m invalid syntax\n"
     ]
    }
   ],
   "source": [
    "2var_name=2"
   ]
  },
  {
   "cell_type": "code",
   "execution_count": 6,
   "id": "8c0f5e73",
   "metadata": {},
   "outputs": [
    {
     "name": "stdout",
     "output_type": "stream",
     "text": [
      "2\n"
     ]
    }
   ],
   "source": [
    "var_name2=2\n",
    "print(var_name2)"
   ]
  },
  {
   "cell_type": "code",
   "execution_count": 7,
   "id": "97c92571",
   "metadata": {},
   "outputs": [
    {
     "name": "stdout",
     "output_type": "stream",
     "text": [
      "2\n"
     ]
    }
   ],
   "source": [
    "var2_name=2\n",
    "print(var_name2)"
   ]
  },
  {
   "cell_type": "code",
   "execution_count": 8,
   "id": "08661f1a",
   "metadata": {},
   "outputs": [
    {
     "ename": "SyntaxError",
     "evalue": "invalid syntax (<ipython-input-8-7bda976ee188>, line 1)",
     "output_type": "error",
     "traceback": [
      "\u001b[1;36m  File \u001b[1;32m\"<ipython-input-8-7bda976ee188>\"\u001b[1;36m, line \u001b[1;32m1\u001b[0m\n\u001b[1;33m    @var_name='@'\u001b[0m\n\u001b[1;37m             ^\u001b[0m\n\u001b[1;31mSyntaxError\u001b[0m\u001b[1;31m:\u001b[0m invalid syntax\n"
     ]
    }
   ],
   "source": [
    "@var_name='@'"
   ]
  },
  {
   "cell_type": "code",
   "execution_count": 9,
   "id": "4d8d6794",
   "metadata": {},
   "outputs": [
    {
     "ename": "SyntaxError",
     "evalue": "invalid syntax (<ipython-input-9-c64ae5a6e2b3>, line 1)",
     "output_type": "error",
     "traceback": [
      "\u001b[1;36m  File \u001b[1;32m\"<ipython-input-9-c64ae5a6e2b3>\"\u001b[1;36m, line \u001b[1;32m1\u001b[0m\n\u001b[1;33m    var$_name='#'\u001b[0m\n\u001b[1;37m       ^\u001b[0m\n\u001b[1;31mSyntaxError\u001b[0m\u001b[1;31m:\u001b[0m invalid syntax\n"
     ]
    }
   ],
   "source": [
    "var$_name='#'"
   ]
  },
  {
   "cell_type": "code",
   "execution_count": 10,
   "id": "066c6aed",
   "metadata": {},
   "outputs": [
    {
     "name": "stdout",
     "output_type": "stream",
     "text": [
      "&\n"
     ]
    }
   ],
   "source": [
    "var_name='&'\n",
    "print(var_name)"
   ]
  },
  {
   "cell_type": "code",
   "execution_count": 13,
   "id": "32b35e08",
   "metadata": {},
   "outputs": [
    {
     "name": "stdout",
     "output_type": "stream",
     "text": [
      "faisal\n"
     ]
    }
   ],
   "source": [
    "str_varq1='faisal'\n",
    "print(str_varq1)"
   ]
  },
  {
   "cell_type": "code",
   "execution_count": 14,
   "id": "5edbcc24",
   "metadata": {},
   "outputs": [
    {
     "name": "stdout",
     "output_type": "stream",
     "text": [
      "faisal\n"
     ]
    }
   ],
   "source": [
    "str_varq2=\"faisal\"\n",
    "print(str_varq2)"
   ]
  },
  {
   "cell_type": "code",
   "execution_count": 17,
   "id": "709fbf87",
   "metadata": {},
   "outputs": [
    {
     "name": "stdout",
     "output_type": "stream",
     "text": [
      "faisal\n"
     ]
    }
   ],
   "source": [
    "str_varq3=\"\"\"faisal\"\"\"\n",
    "print(str_varq3)"
   ]
  },
  {
   "cell_type": "code",
   "execution_count": 19,
   "id": "5df2a8a9",
   "metadata": {},
   "outputs": [
    {
     "ename": "SyntaxError",
     "evalue": "EOL while scanning string literal (<ipython-input-19-129f7edc3e63>, line 1)",
     "output_type": "error",
     "traceback": [
      "\u001b[1;36m  File \u001b[1;32m\"<ipython-input-19-129f7edc3e63>\"\u001b[1;36m, line \u001b[1;32m1\u001b[0m\n\u001b[1;33m    str_varq5=''''faisal''''\u001b[0m\n\u001b[1;37m                            ^\u001b[0m\n\u001b[1;31mSyntaxError\u001b[0m\u001b[1;31m:\u001b[0m EOL while scanning string literal\n"
     ]
    }
   ],
   "source": [
    "str_varq5=''''faisal''''"
   ]
  },
  {
   "cell_type": "code",
   "execution_count": 18,
   "id": "90e5fbe2",
   "metadata": {},
   "outputs": [
    {
     "name": "stdout",
     "output_type": "stream",
     "text": [
      "faisal\n"
     ]
    }
   ],
   "source": [
    "str_varq4='''faisal'''\n",
    "print(str_varq4)"
   ]
  },
  {
   "cell_type": "code",
   "execution_count": 25,
   "id": "1c375c25",
   "metadata": {},
   "outputs": [
    {
     "name": "stdout",
     "output_type": "stream",
     "text": [
      "faisal\n"
     ]
    }
   ],
   "source": [
    "str_varq6=\"\"\"\"\"\"\"faisal\"\"\"\"\"\"\"\n",
    "print(str_varq4)"
   ]
  },
  {
   "cell_type": "code",
   "execution_count": 26,
   "id": "db252ec4",
   "metadata": {},
   "outputs": [
    {
     "data": {
      "text/plain": [
       "str"
      ]
     },
     "execution_count": 26,
     "metadata": {},
     "output_type": "execute_result"
    }
   ],
   "source": [
    "type(str_varq6)"
   ]
  }
 ],
 "metadata": {
  "kernelspec": {
   "display_name": "Python 3",
   "language": "python",
   "name": "python3"
  },
  "language_info": {
   "codemirror_mode": {
    "name": "ipython",
    "version": 3
   },
   "file_extension": ".py",
   "mimetype": "text/x-python",
   "name": "python",
   "nbconvert_exporter": "python",
   "pygments_lexer": "ipython3",
   "version": "3.8.8"
  }
 },
 "nbformat": 4,
 "nbformat_minor": 5
}
